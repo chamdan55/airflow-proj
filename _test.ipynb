{
 "cells": [
  {
   "cell_type": "markdown",
   "metadata": {},
   "source": [
    "# For Airflow"
   ]
  },
  {
   "cell_type": "code",
   "execution_count": 6,
   "metadata": {},
   "outputs": [],
   "source": [
    "import pandas as pd\n",
    "import json"
   ]
  },
  {
   "cell_type": "code",
   "execution_count": 2,
   "metadata": {},
   "outputs": [
    {
     "name": "stderr",
     "output_type": "stream",
     "text": [
      "<>:1: SyntaxWarning: invalid escape sequence '\\p'\n",
      "<>:1: SyntaxWarning: invalid escape sequence '\\p'\n",
      "C:\\Users\\camduns\\AppData\\Local\\Temp\\ipykernel_14052\\3748674224.py:1: SyntaxWarning: invalid escape sequence '\\p'\n",
      "  data = pd.read_csv('data\\pre-processed_data\\pre-processed_data_28-06-2024.csv')\n"
     ]
    }
   ],
   "source": [
    "data = pd.read_csv('data\\pre-processed_data\\pre-processed_data_28-06-2024.csv')"
   ]
  },
  {
   "cell_type": "code",
   "execution_count": 3,
   "metadata": {},
   "outputs": [
    {
     "data": {
      "text/html": [
       "<div>\n",
       "<style scoped>\n",
       "    .dataframe tbody tr th:only-of-type {\n",
       "        vertical-align: middle;\n",
       "    }\n",
       "\n",
       "    .dataframe tbody tr th {\n",
       "        vertical-align: top;\n",
       "    }\n",
       "\n",
       "    .dataframe thead th {\n",
       "        text-align: right;\n",
       "    }\n",
       "</style>\n",
       "<table border=\"1\" class=\"dataframe\">\n",
       "  <thead>\n",
       "    <tr style=\"text-align: right;\">\n",
       "      <th></th>\n",
       "      <th>merchantname</th>\n",
       "      <th>category</th>\n",
       "    </tr>\n",
       "  </thead>\n",
       "  <tbody>\n",
       "    <tr>\n",
       "      <th>0</th>\n",
       "      <td>de bebeks</td>\n",
       "      <td>Makanan &amp; Minuman</td>\n",
       "    </tr>\n",
       "    <tr>\n",
       "      <th>1</th>\n",
       "      <td>bebeks empuk rifio</td>\n",
       "      <td>Makanan &amp; Minuman</td>\n",
       "    </tr>\n",
       "    <tr>\n",
       "      <th>2</th>\n",
       "      <td>bebeks galak's</td>\n",
       "      <td>Makanan &amp; Minuman</td>\n",
       "    </tr>\n",
       "    <tr>\n",
       "      <th>3</th>\n",
       "      <td>salero jumbo - padang restaurant</td>\n",
       "      <td>Makanan &amp; Minuman</td>\n",
       "    </tr>\n",
       "    <tr>\n",
       "      <th>4</th>\n",
       "      <td>subway menara cakrawala</td>\n",
       "      <td>Makanan &amp; Minuman</td>\n",
       "    </tr>\n",
       "  </tbody>\n",
       "</table>\n",
       "</div>"
      ],
      "text/plain": [
       "                       merchantname           category\n",
       "0                         de bebeks  Makanan & Minuman\n",
       "1                bebeks empuk rifio  Makanan & Minuman\n",
       "2                    bebeks galak's  Makanan & Minuman\n",
       "3  salero jumbo - padang restaurant  Makanan & Minuman\n",
       "4           subway menara cakrawala  Makanan & Minuman"
      ]
     },
     "execution_count": 3,
     "metadata": {},
     "output_type": "execute_result"
    }
   ],
   "source": [
    "data.head()"
   ]
  },
  {
   "cell_type": "code",
   "execution_count": 4,
   "metadata": {},
   "outputs": [
    {
     "data": {
      "text/plain": [
       "13"
      ]
     },
     "execution_count": 4,
     "metadata": {},
     "output_type": "execute_result"
    }
   ],
   "source": [
    "data.category.nunique()"
   ]
  },
  {
   "cell_type": "code",
   "execution_count": 11,
   "metadata": {},
   "outputs": [],
   "source": [
    "category_map = {\n",
    "            \"Uang Keluar\": 1,\n",
    "            \"Tabungan & Investasi\": 2,\n",
    "            \"Pinjaman\": 3,\n",
    "            \"Tagihan\": 4,\n",
    "            \"Hadiah & Amal\": 5,\n",
    "            \"Transportasi\": 6,\n",
    "            \"Belanja\": 7,\n",
    "            \"Top Up\": 8,\n",
    "            \"Hiburan\": 9,\n",
    "            \"Makanan & Minuman\": 10,\n",
    "            \"Biaya & Lainnya\": 11,\n",
    "            \"Hobi & Gaya Hidup\": 12,\n",
    "            \"Perawatan Diri\": 13,\n",
    "            \"Kesehatan\": 14,\n",
    "            \"Pendidikan\": 15,\n",
    "            \"Uang Masuk\": 16,\n",
    "            \"Gaji\": 17,\n",
    "            \"Pencairan Investasi\": 18,\n",
    "            \"Bunga\": 19,\n",
    "            \"Refund\": 20,\n",
    "            \"Pencairan Pinjaman\": 21,\n",
    "            \"Cashback\": 22\n",
    "        }\n",
    "\n",
    "with open(\"./data/label_dict.json\", \"w\") as json_file:\n",
    "    json.dump(category_map, json_file)\n",
    "\n",
    " # Create the inverse label dictionary\n",
    "label_dict_inv = {v: k for k, v in category_map.items()}\n",
    "\n",
    "with open(\"./data/label_dict_inv.json\", \"w\") as json_file:\n",
    "    json.dump(label_dict_inv, json_file)"
   ]
  },
  {
   "cell_type": "code",
   "execution_count": 12,
   "metadata": {},
   "outputs": [],
   "source": [
    "with open('./data/label_dict.json') as json_file:\n",
    "        label_dict = json.load(json_file)"
   ]
  },
  {
   "cell_type": "code",
   "execution_count": 13,
   "metadata": {},
   "outputs": [
    {
     "data": {
      "text/plain": [
       "{'Uang Keluar': 1,\n",
       " 'Tabungan & Investasi': 2,\n",
       " 'Pinjaman': 3,\n",
       " 'Tagihan': 4,\n",
       " 'Hadiah & Amal': 5,\n",
       " 'Transportasi': 6,\n",
       " 'Belanja': 7,\n",
       " 'Top Up': 8,\n",
       " 'Hiburan': 9,\n",
       " 'Makanan & Minuman': 10,\n",
       " 'Biaya & Lainnya': 11,\n",
       " 'Hobi & Gaya Hidup': 12,\n",
       " 'Perawatan Diri': 13,\n",
       " 'Kesehatan': 14,\n",
       " 'Pendidikan': 15,\n",
       " 'Uang Masuk': 16,\n",
       " 'Gaji': 17,\n",
       " 'Pencairan Investasi': 18,\n",
       " 'Bunga': 19,\n",
       " 'Refund': 20,\n",
       " 'Pencairan Pinjaman': 21,\n",
       " 'Cashback': 22}"
      ]
     },
     "execution_count": 13,
     "metadata": {},
     "output_type": "execute_result"
    }
   ],
   "source": [
    "label_dict"
   ]
  },
  {
   "cell_type": "code",
   "execution_count": 14,
   "metadata": {},
   "outputs": [],
   "source": [
    "data['cat_id'] = data['category'].map(label_dict)"
   ]
  },
  {
   "cell_type": "code",
   "execution_count": 15,
   "metadata": {},
   "outputs": [
    {
     "data": {
      "text/html": [
       "<div>\n",
       "<style scoped>\n",
       "    .dataframe tbody tr th:only-of-type {\n",
       "        vertical-align: middle;\n",
       "    }\n",
       "\n",
       "    .dataframe tbody tr th {\n",
       "        vertical-align: top;\n",
       "    }\n",
       "\n",
       "    .dataframe thead th {\n",
       "        text-align: right;\n",
       "    }\n",
       "</style>\n",
       "<table border=\"1\" class=\"dataframe\">\n",
       "  <thead>\n",
       "    <tr style=\"text-align: right;\">\n",
       "      <th></th>\n",
       "      <th>merchantname</th>\n",
       "      <th>category</th>\n",
       "      <th>cat_id</th>\n",
       "    </tr>\n",
       "  </thead>\n",
       "  <tbody>\n",
       "    <tr>\n",
       "      <th>0</th>\n",
       "      <td>de bebeks</td>\n",
       "      <td>Makanan &amp; Minuman</td>\n",
       "      <td>10</td>\n",
       "    </tr>\n",
       "    <tr>\n",
       "      <th>1</th>\n",
       "      <td>bebeks empuk rifio</td>\n",
       "      <td>Makanan &amp; Minuman</td>\n",
       "      <td>10</td>\n",
       "    </tr>\n",
       "    <tr>\n",
       "      <th>2</th>\n",
       "      <td>bebeks galak's</td>\n",
       "      <td>Makanan &amp; Minuman</td>\n",
       "      <td>10</td>\n",
       "    </tr>\n",
       "    <tr>\n",
       "      <th>3</th>\n",
       "      <td>salero jumbo - padang restaurant</td>\n",
       "      <td>Makanan &amp; Minuman</td>\n",
       "      <td>10</td>\n",
       "    </tr>\n",
       "    <tr>\n",
       "      <th>4</th>\n",
       "      <td>subway menara cakrawala</td>\n",
       "      <td>Makanan &amp; Minuman</td>\n",
       "      <td>10</td>\n",
       "    </tr>\n",
       "  </tbody>\n",
       "</table>\n",
       "</div>"
      ],
      "text/plain": [
       "                       merchantname           category  cat_id\n",
       "0                         de bebeks  Makanan & Minuman      10\n",
       "1                bebeks empuk rifio  Makanan & Minuman      10\n",
       "2                    bebeks galak's  Makanan & Minuman      10\n",
       "3  salero jumbo - padang restaurant  Makanan & Minuman      10\n",
       "4           subway menara cakrawala  Makanan & Minuman      10"
      ]
     },
     "execution_count": 15,
     "metadata": {},
     "output_type": "execute_result"
    }
   ],
   "source": [
    "data.head()"
   ]
  },
  {
   "cell_type": "code",
   "execution_count": 19,
   "metadata": {},
   "outputs": [],
   "source": [
    "val = data.category.value_counts()"
   ]
  },
  {
   "cell_type": "code",
   "execution_count": 20,
   "metadata": {},
   "outputs": [],
   "source": [
    "filtered_val = val[val>=2]"
   ]
  },
  {
   "cell_type": "code",
   "execution_count": 22,
   "metadata": {},
   "outputs": [
    {
     "data": {
      "text/plain": [
       "category\n",
       "Makanan & Minuman    531\n",
       "Belanja               73\n",
       "Transportasi          50\n",
       "Tagihan               43\n",
       "Uang Keluar           41\n",
       "Hobi & Gaya Hidup     29\n",
       "Kesehatan             17\n",
       "Hiburan               13\n",
       "Pinjaman              10\n",
       "Perawatan Diri         5\n",
       "Pendidikan             3\n",
       "Top Up                 2\n",
       "Name: count, dtype: int64"
      ]
     },
     "execution_count": 22,
     "metadata": {},
     "output_type": "execute_result"
    }
   ],
   "source": [
    "filtered_val"
   ]
  },
  {
   "cell_type": "code",
   "execution_count": 23,
   "metadata": {},
   "outputs": [],
   "source": [
    "mask = data['category'].isin(filtered_val.index)"
   ]
  },
  {
   "cell_type": "code",
   "execution_count": 24,
   "metadata": {},
   "outputs": [],
   "source": [
    "filtered_data = data[mask]"
   ]
  },
  {
   "cell_type": "code",
   "execution_count": 26,
   "metadata": {},
   "outputs": [
    {
     "data": {
      "text/plain": [
       "cat_id\n",
       "10    531\n",
       "7      73\n",
       "6      50\n",
       "4      43\n",
       "1      41\n",
       "12     29\n",
       "14     17\n",
       "9      13\n",
       "3      10\n",
       "13      5\n",
       "15      3\n",
       "8       2\n",
       "Name: count, dtype: int64"
      ]
     },
     "execution_count": 26,
     "metadata": {},
     "output_type": "execute_result"
    }
   ],
   "source": [
    "filtered_data.cat_id.value_counts()"
   ]
  },
  {
   "cell_type": "markdown",
   "metadata": {},
   "source": [
    "# For MLFlow"
   ]
  },
  {
   "cell_type": "code",
   "execution_count": 3,
   "metadata": {},
   "outputs": [],
   "source": [
    "import mlflow\n",
    "from mlflow.tracking.client import MlflowClient"
   ]
  },
  {
   "cell_type": "code",
   "execution_count": 2,
   "metadata": {},
   "outputs": [],
   "source": [
    "mlflow.set_tracking_uri('http://16.78.80.86:5000')"
   ]
  },
  {
   "cell_type": "code",
   "execution_count": 5,
   "metadata": {},
   "outputs": [
    {
     "name": "stdout",
     "output_type": "stream",
     "text": [
      "Version: 2\n",
      "Stage: None\n",
      "Source: s3://dw-ml-mav/mlflow/0/e35a41b8f07b459c98874747842e552c/artifacts/model\n",
      "Run ID: e35a41b8f07b459c98874747842e552c\n",
      "==========\n",
      "Version: 1\n",
      "Stage: None\n",
      "Source: s3://dw-ml-mav/mlflow/0/7a77cae717344d979bcde14952a01aab/artifacts/model\n",
      "Run ID: 7a77cae717344d979bcde14952a01aab\n",
      "==========\n"
     ]
    }
   ],
   "source": [
    "client = MlflowClient()\n",
    "model_name = \"BertModelLowCodeV312\" \n",
    "\n",
    "# Efficiently fetch all model versions (including their details)\n",
    "model_versions = client.search_model_versions(f\"name='{model_name}'\")\n",
    "\n",
    "for mv in model_versions:\n",
    "    print(\"Version:\", mv.version)\n",
    "    print(\"Stage:\", mv.current_stage)\n",
    "    print(\"Source:\", mv.source)\n",
    "    print(\"Run ID:\", mv.run_id)\n",
    "    print(\"=\"*10)"
   ]
  },
  {
   "cell_type": "code",
   "execution_count": null,
   "metadata": {},
   "outputs": [],
   "source": []
  }
 ],
 "metadata": {
  "kernelspec": {
   "display_name": ".venv",
   "language": "python",
   "name": "python3"
  },
  "language_info": {
   "codemirror_mode": {
    "name": "ipython",
    "version": 3
   },
   "file_extension": ".py",
   "mimetype": "text/x-python",
   "name": "python",
   "nbconvert_exporter": "python",
   "pygments_lexer": "ipython3",
   "version": "3.12.3"
  }
 },
 "nbformat": 4,
 "nbformat_minor": 2
}
